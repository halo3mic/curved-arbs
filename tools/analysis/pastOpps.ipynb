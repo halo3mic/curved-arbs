{
 "metadata": {
  "language_info": {
   "codemirror_mode": {
    "name": "ipython",
    "version": 3
   },
   "file_extension": ".py",
   "mimetype": "text/x-python",
   "name": "python",
   "nbconvert_exporter": "python",
   "pygments_lexer": "ipython3",
   "version": "3.7.5-final"
  },
  "orig_nbformat": 2,
  "kernelspec": {
   "name": "python37564bit02806f353b4d4ab0b33630e4ebbdac27",
   "display_name": "Python 3.7.5 64-bit",
   "language": "python"
  }
 },
 "nbformat": 4,
 "nbformat_minor": 2,
 "cells": [
  {
   "source": [
    "Analysis of past txs "
   ],
   "cell_type": "markdown",
   "metadata": {}
  },
  {
   "cell_type": "code",
   "execution_count": 51,
   "metadata": {},
   "outputs": [],
   "source": [
    "import json\n",
    "from pprint import pprint"
   ]
  },
  {
   "cell_type": "code",
   "execution_count": 4,
   "metadata": {},
   "outputs": [],
   "source": [
    "subjects = json.load(open(\"./pastCalldata.json\"))"
   ]
  },
  {
   "cell_type": "code",
   "execution_count": 59,
   "metadata": {},
   "outputs": [],
   "source": [
    "def decypher_calldata(calldata):\n",
    "    if not calldata: \n",
    "        return []\n",
    "    calls = []\n",
    "    calldata = calldata.lstrip(\"0x\")\n",
    "    target_address = calldata[:40]  # Contract address where call goes\n",
    "    call_length_bytes = calldata[40:64+40]\n",
    "    call_length = int(call_length_bytes, 16)*2\n",
    "    method = calldata[64+40:64+40+8]\n",
    "    args_bytes = calldata[64+40+8: 64+40+call_length]\n",
    "    args = [args_bytes[i*64:(1+i)*64] for i in range(len(args_bytes)//64)]\n",
    "    calls = [{\n",
    "        \"targetAddress\": target_address, \n",
    "        \"method\": method, \n",
    "        \"args\": args\n",
    "    }]\n",
    "    further_calls = calldata[64+40+call_length:]\n",
    "    return calls + decypher_calldata(further_calls)\n",
    "\n",
    "def simulate_opp(opp, position=2):\n",
    "    calls = decypher_calldata(opp[\"tradeCalldata\"])\n",
    "    "
   ]
  },
  {
   "cell_type": "code",
   "execution_count": 57,
   "metadata": {},
   "outputs": [
    {
     "output_type": "stream",
     "name": "stdout",
     "text": [
      "{'args': [],\n 'method': 'd0e30db0',\n 'targetAddress': 'c02aaa39b223fe8d0a0e5c4f27ead9083c756cc2'}\n{'args': ['000000000000000000000000000000000000000000000000484da3656fc90000',\n          '0000000000000000000000000000000000000000000000000000000000000000',\n          '00000000000000000000000000000000000000000000000000000000000000a0',\n          '0000000000000000000000005dc60bc57d7846eeb5c046345950c69224c83b6e',\n          'ffffffffffffffffffffffffffffffffffffffffffffffffffffffffffffffff',\n          '0000000000000000000000000000000000000000000000000000000000000002',\n          '000000000000000000000000c02aaa39b223fe8d0a0e5c4f27ead9083c756cc2',\n          '0000000000000000000000006b3595068778dd592e39a122f4f5a5cf09c90fe2'],\n 'method': '38ed1739',\n 'targetAddress': 'd9e1ce17f2641f24ae83637ab66a2cca9c378b9f'}\n{'args': ['0000000000000000000000000000000000000000000000000000000000000000',\n          '0000000000000000000000000000000000000000000000000000000000000000',\n          '00000000000000000000000000000000000000000000000000000000000000a0',\n          '0000000000000000000000005dc60bc57d7846eeb5c046345950c69224c83b6e',\n          'ffffffffffffffffffffffffffffffffffffffffffffffffffffffffffffffff',\n          '0000000000000000000000000000000000000000000000000000000000000002',\n          '0000000000000000000000006b3595068778dd592e39a122f4f5a5cf09c90fe2',\n          '0000000000000000000000008798249c2e607446efb7ad49ec89dd1865ff4272'],\n 'method': '38ed1739',\n 'targetAddress': 'd9e1ce17f2641f24ae83637ab66a2cca9c378b9f'}\n{'args': ['0000000000000000000000000000000000000000000000000000000000000000',\n          '0000000000000000000000000000000000000000000000000000000000000000',\n          '00000000000000000000000000000000000000000000000000000000000000a0',\n          '0000000000000000000000005dc60bc57d7846eeb5c046345950c69224c83b6e',\n          'ffffffffffffffffffffffffffffffffffffffffffffffffffffffffffffffff',\n          '0000000000000000000000000000000000000000000000000000000000000002',\n          '0000000000000000000000008798249c2e607446efb7ad49ec89dd1865ff4272',\n          '000000000000000000000000c02aaa39b223fe8d0a0e5c4f27ead9083c756cc2'],\n 'method': '38ed1739',\n 'targetAddress': 'd9e1ce17f2641f24ae83637ab66a2cca9c378b9f'}\n{'args': ['0000000000000000000000000000000000000000000000000000000000000000'],\n 'method': '2e1a7d4d',\n 'targetAddress': 'c02aaa39b223fe8d0a0e5c4f27ead9083c756cc2'}\n"
     ]
    }
   ],
   "source": [
    "[pprint(call) for call in decypher_calldata(subjects[\"Ocarina\"][0][\"tradeCalldata\"])];"
   ]
  },
  {
   "cell_type": "code",
   "execution_count": 75,
   "metadata": {},
   "outputs": [
    {
     "output_type": "stream",
     "name": "stdout",
     "text": [
      "12023881\n{'args': [],\n 'method': 'd0e30db0',\n 'targetAddress': 'c02aaa39b223fe8d0a0e5c4f27ead9083c756cc2'}\n{'args': ['0000000000000000000000000000000000000000000000009a522d156e580000',\n          '0000000000000000000000000000000000000000000000000000000000000000',\n          '00000000000000000000000000000000000000000000000000000000000000a0',\n          '0000000000000000000000005dc60bc57d7846eeb5c046345950c69224c83b6e',\n          'ffffffffffffffffffffffffffffffffffffffffffffffffffffffffffffffff',\n          '0000000000000000000000000000000000000000000000000000000000000002',\n          '000000000000000000000000c02aaa39b223fe8d0a0e5c4f27ead9083c756cc2',\n          '0000000000000000000000001337def16f9b486faed0293eb623dc8395dfe46a'],\n 'method': '38ed1739',\n 'targetAddress': '7a250d5630b4cf539739df2c5dacb4c659f2488d'}\n{'args': ['0000000000000000000000000000000000000000000000000000000000000000',\n          '0000000000000000000000000000000000000000000000000000000000000000',\n          '00000000000000000000000000000000000000000000000000000000000000a0',\n          '0000000000000000000000005dc60bc57d7846eeb5c046345950c69224c83b6e',\n          'ffffffffffffffffffffffffffffffffffffffffffffffffffffffffffffffff',\n          '0000000000000000000000000000000000000000000000000000000000000002',\n          '0000000000000000000000001337def16f9b486faed0293eb623dc8395dfe46a',\n          '0000000000000000000000006b175474e89094c44da98b954eedeac495271d0f'],\n 'method': '38ed1739',\n 'targetAddress': '7a250d5630b4cf539739df2c5dacb4c659f2488d'}\n{'args': ['0000000000000000000000006b175474e89094c44da98b954eedeac495271d0f',\n          '0000000000000000000000000000000000000000000000000000000000000000',\n          '000000000000000000000000c02aaa39b223fe8d0a0e5c4f27ead9083c756cc2',\n          '0000000000000000000000000000000000000000000000000000000000000000',\n          'ffffffffffffffffffffffffffffffffffffffffffffffffffffffffffffffff'],\n 'method': '8201aa3f',\n 'targetAddress': '7afe74ae3c19f070c109a38c286684256adc656c'}\n{'args': ['0000000000000000000000000000000000000000000000000000000000000000'],\n 'method': '2e1a7d4d',\n 'targetAddress': 'c02aaa39b223fe8d0a0e5c4f27ead9083c756cc2'}\n"
     ]
    }
   ],
   "source": [
    "opp = subjects[\"Ocarina\"][7]\n",
    "print(opp[\"blockNumber\"])\n",
    "[pprint(call) for call in decypher_calldata(opp[\"tradeCalldata\"])];"
   ]
  }
 ]
}